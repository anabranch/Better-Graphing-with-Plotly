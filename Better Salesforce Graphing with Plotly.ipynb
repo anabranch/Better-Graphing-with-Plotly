{
 "metadata": {
  "name": "",
  "signature": "sha256:f5e8f0a4e8edcbd80bcd50e86c68b8c0f1bebf56c3aaa9bb6f9c318fe6064e5d"
 },
 "nbformat": 3,
 "nbformat_minor": 0,
 "worksheets": [
  {
   "cells": [
    {
     "cell_type": "markdown",
     "metadata": {},
     "source": [
      "# Better Salesforce Graphing with Plotly\n",
      "\n",
      "For many users of salesforce, their built in reporting mechanisms truly fall short of what developers and data analysts might look for. While exporting data can be easy, [Simple Salesforce](https://github.com/neworganizing/simple-salesforce) provides a simple mechanism by which you can make REST calls to the Salesforce API.\n",
      "\n",
      "This notebook walks you through that basic process. Firstly you'll need a Salesforce Developer (or regular Salesforce Account). [You can get a developer account for free.](https://developer.salesforce.com/signup)"
     ]
    },
    {
     "cell_type": "code",
     "collapsed": false,
     "input": [
      "# we'll first start off with some basic imports.\n",
      "import pandas as pd\n",
      "import numpy as np\n",
      "from collections import Counter\n",
      "import requests\n",
      "\n",
      "import plotly.plotly as py\n",
      "from plotly.graph_objs import *\n",
      "\n",
      "from simple_salesforce import Salesforce\n",
      "requests.packages.urllib3.disable_warnings() # this squashes insecure SSL warnings - DO NOT DO THIS ON PRODUCTION!"
     ],
     "language": "python",
     "metadata": {},
     "outputs": [],
     "prompt_number": 171
    },
    {
     "cell_type": "markdown",
     "metadata": {},
     "source": [
      "I've stored my Salesforce login and Plotly login keys in a text file however you're free to store them as environmental variables. As a reminder, login details should NEVER be included in version control."
     ]
    },
    {
     "cell_type": "code",
     "collapsed": false,
     "input": [
      "with open('plotly_login.txt') as f:\n",
      "    username, password = [x.strip(\"\\n\") for x in f.readlines()]\n",
      "py.sign_in(username, password)"
     ],
     "language": "python",
     "metadata": {},
     "outputs": [],
     "prompt_number": 172
    },
    {
     "cell_type": "code",
     "collapsed": false,
     "input": [
      "with open('salesforce_login.txt') as f:\n",
      "    username, password, token = [x.strip(\"\\n\") for x in f.readlines()]"
     ],
     "language": "python",
     "metadata": {},
     "outputs": [],
     "prompt_number": 173
    },
    {
     "cell_type": "markdown",
     "metadata": {},
     "source": [
      "Logging into Salesforce is as easy as entering in your username, password, and security token given to you by Salesforce. [Here's how to get your security token from Salesforce.](https://help.salesforce.com/apex/HTViewHelpDoc?id=user_security_token.htm)"
     ]
    },
    {
     "cell_type": "code",
     "collapsed": false,
     "input": [
      "sf = Salesforce(username=username, password=password, security_token=token)"
     ],
     "language": "python",
     "metadata": {},
     "outputs": [],
     "prompt_number": 174
    },
    {
     "cell_type": "markdown",
     "metadata": {},
     "source": [
      "At this time we're going to write a simply SOQL query to get some basic information from some leads. We'll query the status and Owner from our leads.\n",
      "\n",
      "Further reference for the Salesforce API and writing SOQL queries:\n",
      "http://www.salesforce.com/us/developer/docs/soql_sosl/"
     ]
    },
    {
     "cell_type": "code",
     "collapsed": false,
     "input": [
      "leads_for_status = sf.query(\"SELECT Id, Status, Owner.Name FROM Lead\")"
     ],
     "language": "python",
     "metadata": {},
     "outputs": [],
     "prompt_number": 175
    },
    {
     "cell_type": "markdown",
     "metadata": {},
     "source": [
      "Now we'll use a quick list comprehension to get just our statuses from those records (which are in an ordered dictionary format)."
     ]
    },
    {
     "cell_type": "code",
     "collapsed": false,
     "input": [
      "statuses = [x['Status'] for x in leads_for_status[\"records\"]]"
     ],
     "language": "python",
     "metadata": {},
     "outputs": [],
     "prompt_number": 176
    },
    {
     "cell_type": "markdown",
     "metadata": {},
     "source": [
      "A Counter gives us the total counts for specific statuses."
     ]
    },
    {
     "cell_type": "code",
     "collapsed": false,
     "input": [
      "status_counts = Counter(statuses)"
     ],
     "language": "python",
     "metadata": {},
     "outputs": [],
     "prompt_number": 177
    },
    {
     "cell_type": "markdown",
     "metadata": {},
     "source": [
      "Now we can take advantage of Plotly's simple IPython Notebook interface to plot the graph in our notebook."
     ]
    },
    {
     "cell_type": "code",
     "collapsed": false,
     "input": [
      "data = Data([Bar(x=status_counts.keys(), y=status_counts.values())])\n",
      "py.iplot(data, filename='lead-distributions')"
     ],
     "language": "python",
     "metadata": {},
     "outputs": [
      {
       "html": [
        "<iframe id=\"igraph\" scrolling=\"no\" style=\"border:none;\"seamless=\"seamless\" src=\"https://plot.ly/~bill_chambers/6.embed\" height=\"525\" width=\"100%\"></iframe>"
       ],
       "metadata": {},
       "output_type": "pyout",
       "prompt_number": 178,
       "text": [
        "<plotly.tools.PlotlyDisplay at 0x10c65d410>"
       ]
      }
     ],
     "prompt_number": 178
    },
    {
     "cell_type": "markdown",
     "metadata": {},
     "source": [
      "While this graph gives us a great overview what status our leads are in, we'll likely want to know how each of the sales representatives are doing with their own leads. For that we'll need to get the owners using a similar list comprehension as we did above for the status."
     ]
    },
    {
     "cell_type": "code",
     "collapsed": false,
     "input": [
      "owners = [x['Owner']['Name'] for x in leads_for_status[\"records\"]]"
     ],
     "language": "python",
     "metadata": {},
     "outputs": [],
     "prompt_number": 179
    },
    {
     "cell_type": "markdown",
     "metadata": {},
     "source": [
      "For simplicity in grouping the values, I'm going to plug them into a pandas DataFrame"
     ]
    },
    {
     "cell_type": "code",
     "collapsed": false,
     "input": [
      "df = pd.DataFrame({'Owners':owners, 'Status':statuses})"
     ],
     "language": "python",
     "metadata": {},
     "outputs": [],
     "prompt_number": 180
    },
    {
     "cell_type": "markdown",
     "metadata": {},
     "source": [
      "Now that we've got that we can do a simple lead comparison to compare how our Sales Reps are doing with their leads."
     ]
    },
    {
     "cell_type": "code",
     "collapsed": false,
     "input": [
      "lead_comparison = []\n",
      "for name, vals in df.groupby('Owners'):\n",
      "    counts = vals.Status.value_counts().to_dict()\n",
      "    lead_comparison.append(Bar(x=counts.keys(), y=counts.values(), name=name))"
     ],
     "language": "python",
     "metadata": {},
     "outputs": [],
     "prompt_number": 181
    },
    {
     "cell_type": "code",
     "collapsed": false,
     "input": [
      "layout = Layout(barmode='group')"
     ],
     "language": "python",
     "metadata": {},
     "outputs": [],
     "prompt_number": 182
    },
    {
     "cell_type": "code",
     "collapsed": false,
     "input": [
      "py.iplot(Data(lead_comparison), filename='lead-owner-status-groupings')"
     ],
     "language": "python",
     "metadata": {},
     "outputs": [
      {
       "html": [
        "<iframe id=\"igraph\" scrolling=\"no\" style=\"border:none;\"seamless=\"seamless\" src=\"https://plot.ly/~bill_chambers/12.embed\" height=\"525\" width=\"100%\"></iframe>"
       ],
       "metadata": {},
       "output_type": "pyout",
       "prompt_number": 183,
       "text": [
        "<plotly.tools.PlotlyDisplay at 0x10c65d750>"
       ]
      }
     ],
     "prompt_number": 183
    },
    {
     "cell_type": "markdown",
     "metadata": {},
     "source": [
      "What's great is that plotly makes it simple to compare across groups. However now that we've seen leads, it's worth it to look into Opportunities."
     ]
    },
    {
     "cell_type": "code",
     "collapsed": false,
     "input": [
      "opportunity_amounts = sf.query(\"SELECT Id, Probability, StageName, Amount, Owner.Name FROM Opportunity WHERE AMOUNT < 10000\")"
     ],
     "language": "python",
     "metadata": {},
     "outputs": [],
     "prompt_number": 200
    },
    {
     "cell_type": "code",
     "collapsed": false,
     "input": [
      "amounts = [x['Amount'] for x in opportunity_amounts['records']]\n",
      "owners = [x['Owner']['Name'] for x in opportunity_amounts['records']]"
     ],
     "language": "python",
     "metadata": {},
     "outputs": [],
     "prompt_number": 201
    },
    {
     "cell_type": "code",
     "collapsed": false,
     "input": [
      "hist1 = Histogram(x=amounts)"
     ],
     "language": "python",
     "metadata": {},
     "outputs": [],
     "prompt_number": 202
    },
    {
     "cell_type": "code",
     "collapsed": false,
     "input": [
      "py.iplot(Data([hist1]), filename='opportunity-probability-histogram')"
     ],
     "language": "python",
     "metadata": {},
     "outputs": [
      {
       "html": [
        "<iframe id=\"igraph\" scrolling=\"no\" style=\"border:none;\"seamless=\"seamless\" src=\"https://plot.ly/~bill_chambers/20.embed\" height=\"525\" width=\"100%\"></iframe>"
       ],
       "metadata": {},
       "output_type": "pyout",
       "prompt_number": 203,
       "text": [
        "<plotly.tools.PlotlyDisplay at 0x10b9e6fd0>"
       ]
      }
     ],
     "prompt_number": 203
    },
    {
     "cell_type": "code",
     "collapsed": false,
     "input": [
      "df2 = pd.DataFrame({'Amounts':amounts,'Owners':owners})"
     ],
     "language": "python",
     "metadata": {},
     "outputs": [],
     "prompt_number": 204
    },
    {
     "cell_type": "code",
     "collapsed": false,
     "input": [
      "opportunity_comparisons = []\n",
      "for name, vals in df2.groupby('Owners'):\n",
      "    temp = Histogram(x=vals['Amounts'], opacity=0.75, name=name)\n",
      "    opportunity_comparisons.append(temp)"
     ],
     "language": "python",
     "metadata": {},
     "outputs": [],
     "prompt_number": 211
    },
    {
     "cell_type": "code",
     "collapsed": false,
     "input": [
      "data = Data(opportunity_comparisons)\n",
      "layout = Layout(\n",
      "    barmode='stack'\n",
      ")\n",
      "fig = Figure(data=data, layout=layout)"
     ],
     "language": "python",
     "metadata": {},
     "outputs": [],
     "prompt_number": 212
    },
    {
     "cell_type": "code",
     "collapsed": false,
     "input": [
      "py.iplot(fig, filename='opportunity-probabilities-histogram')"
     ],
     "language": "python",
     "metadata": {},
     "outputs": [
      {
       "html": [
        "<iframe id=\"igraph\" scrolling=\"no\" style=\"border:none;\"seamless=\"seamless\" src=\"https://plot.ly/~bill_chambers/21.embed\" height=\"525\" width=\"100%\"></iframe>"
       ],
       "metadata": {},
       "output_type": "pyout",
       "prompt_number": 213,
       "text": [
        "<plotly.tools.PlotlyDisplay at 0x10c5dfe50>"
       ]
      }
     ],
     "prompt_number": 213
    },
    {
     "cell_type": "code",
     "collapsed": false,
     "input": [],
     "language": "python",
     "metadata": {},
     "outputs": [],
     "prompt_number": 199
    },
    {
     "cell_type": "code",
     "collapsed": false,
     "input": [],
     "language": "python",
     "metadata": {},
     "outputs": []
    }
   ],
   "metadata": {}
  }
 ]
}