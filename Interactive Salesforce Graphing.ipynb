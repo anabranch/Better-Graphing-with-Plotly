{
 "metadata": {
  "name": "",
  "signature": "sha256:21634519aeb8e3985274119c81bd7fc0850e960a85c9b87953cc069df3ac4dd9"
 },
 "nbformat": 3,
 "nbformat_minor": 0,
 "worksheets": [
  {
   "cells": [
    {
     "cell_type": "markdown",
     "metadata": {},
     "source": [
      "# Interactive Salesforce Graphing\n",
      "\n",
      "Salesforce reports are great for getting a handle on the numbers but [Plotly](http://plot.ly/) allows for interactivity not built into the Reports Module in Salesforce. Luckily Salesforce has amazing tools around exporting data, from excel and csv files to a robust and reliable API. With [Simple Salesforce](https://github.com/neworganizing/simple-salesforce), it's simple to make REST calls to the Salesforce API and get your hands on data to make real time, interactive dashboards.\n",
      "\n",
      "This notebook walks you through that basic process of getting something like that set up. \n",
      "\n",
      "First you'll need [Plotly](http://plot.ly/). Plotly is a free web-based platform for making graphs. You can keep graphs private, make them public, and run Plotly on your own servers (https://plot.ly/product/enterprise/). To get started visit https://plot.ly/python/getting-started/ . It's simple interface makes it easy to get interactive graphics done quickly.\n",
      "\n",
      "You'll also need a Salesforce Developer (or regular Salesforce Account). [You can get a salesforce developer account for free](https://developer.salesforce.com/signup) at their developer portal."
     ]
    },
    {
     "cell_type": "code",
     "collapsed": false,
     "input": [
      "# we'll first start off with some basic imports.\n",
      "import pandas as pd\n",
      "import numpy as np\n",
      "from collections import Counter\n",
      "import requests\n",
      "\n",
      "import plotly.plotly as py\n",
      "from plotly.graph_objs import *\n",
      "\n",
      "from simple_salesforce import Salesforce\n",
      "requests.packages.urllib3.disable_warnings() # this squashes insecure SSL warnings - DO NOT DO THIS ON PRODUCTION!"
     ],
     "language": "python",
     "metadata": {},
     "outputs": [],
     "prompt_number": 1
    },
    {
     "cell_type": "markdown",
     "metadata": {},
     "source": [
      "I've stored my Salesforce login in a text file however you're free to store them as environmental variables. As a reminder, login details should NEVER be included in version control."
     ]
    },
    {
     "cell_type": "markdown",
     "metadata": {},
     "source": [
      "Logging into Salesforce is as easy as entering in your username, password, and security token given to you by Salesforce.\n",
      "\n",
      "[Here's how to get your security token from Salesforce.](https://help.salesforce.com/apex/HTViewHelpDoc?id=user_security_token.htm)"
     ]
    },
    {
     "cell_type": "code",
     "collapsed": false,
     "input": [
      "with open('salesforce_login.txt') as f:\n",
      "    username, password, token = [x.strip(\"\\n\") for x in f.readlines()]\n",
      "sf = Salesforce(username=username, password=password, security_token=token)"
     ],
     "language": "python",
     "metadata": {},
     "outputs": [],
     "prompt_number": 2
    },
    {
     "cell_type": "markdown",
     "metadata": {},
     "source": [
      "At this time we're going to write a simply SOQL query to get some basic information from some leads. We'll query the status and Owner from our leads.\n",
      "\n",
      "Further reference for the Salesforce API and writing SOQL queries:\n",
      "http://www.salesforce.com/us/developer/docs/soql_sosl/"
     ]
    },
    {
     "cell_type": "code",
     "collapsed": false,
     "input": [
      "leads_for_status = sf.query(\"SELECT Id, Status, Owner.Name FROM Lead\")"
     ],
     "language": "python",
     "metadata": {},
     "outputs": [],
     "prompt_number": 3
    },
    {
     "cell_type": "markdown",
     "metadata": {},
     "source": [
      "Now we'll use a quick list comprehension to get just our statuses from those records (which are in an ordered dictionary format)."
     ]
    },
    {
     "cell_type": "code",
     "collapsed": false,
     "input": [
      "statuses = [x['Status'] for x in leads_for_status[\"records\"]]"
     ],
     "language": "python",
     "metadata": {},
     "outputs": [],
     "prompt_number": 4
    },
    {
     "cell_type": "markdown",
     "metadata": {},
     "source": [
      "A Counter gives us the total counts for specific statuses."
     ]
    },
    {
     "cell_type": "code",
     "collapsed": false,
     "input": [
      "status_counts = Counter(statuses)"
     ],
     "language": "python",
     "metadata": {},
     "outputs": [],
     "prompt_number": 5
    },
    {
     "cell_type": "markdown",
     "metadata": {},
     "source": [
      "Now we can take advantage of Plotly's simple IPython Notebook interface to plot the graph in our notebook."
     ]
    },
    {
     "cell_type": "code",
     "collapsed": false,
     "input": [
      "data = Data([Bar(x=status_counts.keys(), y=status_counts.values())])\n",
      "py.iplot(data, filename='salesforce/lead-distributions')"
     ],
     "language": "python",
     "metadata": {},
     "outputs": [
      {
       "html": [
        "<iframe id=\"igraph\" scrolling=\"no\" style=\"border:none;\"seamless=\"seamless\" src=\"https://plot.ly/~bill_chambers/49.embed\" height=\"525\" width=\"100%\"></iframe>"
       ],
       "metadata": {},
       "output_type": "pyout",
       "prompt_number": 6,
       "text": [
        "<plotly.tools.PlotlyDisplay at 0x111310a10>"
       ]
      }
     ],
     "prompt_number": 6
    },
    {
     "cell_type": "markdown",
     "metadata": {},
     "source": [
      "While this graph gives us a great overview what status our leads are in, we'll likely want to know how each of the sales representatives are doing with their own leads. For that we'll need to get the owners using a similar list comprehension as we did above for the status."
     ]
    },
    {
     "cell_type": "code",
     "collapsed": false,
     "input": [
      "owners = [x['Owner']['Name'] for x in leads_for_status[\"records\"]]"
     ],
     "language": "python",
     "metadata": {},
     "outputs": [],
     "prompt_number": 7
    },
    {
     "cell_type": "markdown",
     "metadata": {},
     "source": [
      "For simplicity in grouping the values, I'm going to plug them into a pandas DataFrame"
     ]
    },
    {
     "cell_type": "code",
     "collapsed": false,
     "input": [
      "df = pd.DataFrame({'Owners':owners, 'Status':statuses})"
     ],
     "language": "python",
     "metadata": {},
     "outputs": [],
     "prompt_number": 8
    },
    {
     "cell_type": "markdown",
     "metadata": {},
     "source": [
      "Now that we've got that we can do a simple lead comparison to compare how our Sales Reps are doing with their leads. We just create the bars for each lead owner."
     ]
    },
    {
     "cell_type": "code",
     "collapsed": false,
     "input": [
      "lead_comparison = []\n",
      "for name, vals in df.groupby('Owners'):\n",
      "    counts = vals.Status.value_counts()\n",
      "    lead_comparison.append(Bar(x=counts.index, y=counts.values, name=name))"
     ],
     "language": "python",
     "metadata": {},
     "outputs": [],
     "prompt_number": 9
    },
    {
     "cell_type": "code",
     "collapsed": false,
     "input": [
      "py.iplot(Data(lead_comparison), filename='salesforce/lead-owner-status-groupings')"
     ],
     "language": "python",
     "metadata": {},
     "outputs": [
      {
       "html": [
        "<iframe id=\"igraph\" scrolling=\"no\" style=\"border:none;\"seamless=\"seamless\" src=\"https://plot.ly/~bill_chambers/50.embed\" height=\"525\" width=\"100%\"></iframe>"
       ],
       "metadata": {},
       "output_type": "pyout",
       "prompt_number": 10,
       "text": [
        "<plotly.tools.PlotlyDisplay at 0x10de6fb10>"
       ]
      }
     ],
     "prompt_number": 10
    },
    {
     "cell_type": "markdown",
     "metadata": {},
     "source": [
      "What's great is that plotly makes it simple to compare across groups. However now that we've seen leads, it's worth it to look into Opportunities."
     ]
    },
    {
     "cell_type": "code",
     "collapsed": false,
     "input": [
      "opportunity_amounts = sf.query(\"SELECT Id, Probability, StageName, Amount, Owner.Name FROM Opportunity WHERE AMOUNT < 10000\")"
     ],
     "language": "python",
     "metadata": {},
     "outputs": [],
     "prompt_number": 11
    },
    {
     "cell_type": "code",
     "collapsed": false,
     "input": [
      "amounts = [x['Amount'] for x in opportunity_amounts['records']]\n",
      "owners = [x['Owner']['Name'] for x in opportunity_amounts['records']]"
     ],
     "language": "python",
     "metadata": {},
     "outputs": [],
     "prompt_number": 12
    },
    {
     "cell_type": "code",
     "collapsed": false,
     "input": [
      "hist1 = Histogram(x=amounts)"
     ],
     "language": "python",
     "metadata": {},
     "outputs": [],
     "prompt_number": 13
    },
    {
     "cell_type": "code",
     "collapsed": false,
     "input": [
      "py.iplot(Data([hist1]), filename='salesforce/opportunity-probability-histogram')"
     ],
     "language": "python",
     "metadata": {},
     "outputs": [
      {
       "html": [
        "<iframe id=\"igraph\" scrolling=\"no\" style=\"border:none;\"seamless=\"seamless\" src=\"https://plot.ly/~bill_chambers/51.embed\" height=\"525\" width=\"100%\"></iframe>"
       ],
       "metadata": {},
       "output_type": "pyout",
       "prompt_number": 14,
       "text": [
        "<plotly.tools.PlotlyDisplay at 0x111310610>"
       ]
      }
     ],
     "prompt_number": 14
    },
    {
     "cell_type": "code",
     "collapsed": false,
     "input": [
      "df2 = pd.DataFrame({'Amounts':amounts,'Owners':owners})"
     ],
     "language": "python",
     "metadata": {},
     "outputs": [],
     "prompt_number": 15
    },
    {
     "cell_type": "code",
     "collapsed": false,
     "input": [
      "opportunity_comparisons = []\n",
      "for name, vals in df2.groupby('Owners'):\n",
      "    temp = Histogram(x=vals['Amounts'], opacity=0.75, name=name)\n",
      "    opportunity_comparisons.append(temp)"
     ],
     "language": "python",
     "metadata": {},
     "outputs": [],
     "prompt_number": 16
    },
    {
     "cell_type": "code",
     "collapsed": false,
     "input": [
      "layout = Layout(\n",
      "    barmode='stack'\n",
      ")\n",
      "fig = Figure(data=Data(opportunity_comparisons), layout=layout)"
     ],
     "language": "python",
     "metadata": {},
     "outputs": [],
     "prompt_number": 17
    },
    {
     "cell_type": "code",
     "collapsed": false,
     "input": [
      "py.iplot(fig, filename='salesforce/opportunities-histogram')"
     ],
     "language": "python",
     "metadata": {},
     "outputs": [
      {
       "html": [
        "<iframe id=\"igraph\" scrolling=\"no\" style=\"border:none;\"seamless=\"seamless\" src=\"https://plot.ly/~bill_chambers/53.embed\" height=\"525\" width=\"100%\"></iframe>"
       ],
       "metadata": {},
       "output_type": "pyout",
       "prompt_number": 18,
       "text": [
        "<plotly.tools.PlotlyDisplay at 0x11122bdd0>"
       ]
      }
     ],
     "prompt_number": 18
    },
    {
     "cell_type": "markdown",
     "metadata": {},
     "source": [
      "By clicking on the \"play with this data!\" you can export, share, collaborate, and embed these plots. I've used it to share annotations about data and try out more colors. The GUI makes it easy for less technically oriented people to play with the data as well. Check out how the above was changed below or you can follow the link to make your own edits."
     ]
    },
    {
     "cell_type": "code",
     "collapsed": false,
     "input": [
      "from IPython.display import HTML\n",
      "HTML(\"\"\"<div>\n",
      "    <a href=\"https://plot.ly/~bill_chambers/21/\" target=\"_blank\" title=\"Chuck vs Bill Sales Amounts\" style=\"display: block; text-align: center;\"><img src=\"https://plot.ly/~bill_chambers/21.png\" alt=\"Chuck vs Bill Sales Amounts\" style=\"max-width: 100%;width: 1368px;\"  width=\"1368\" onerror=\"this.onerror=null;this.src='https://plot.ly/404.png';\" /></a>\n",
      "    <script data-plotly=\"bill_chambers:21\" src=\"https://plot.ly/embed.js\" async></script>\n",
      "</div>\"\"\")"
     ],
     "language": "python",
     "metadata": {},
     "outputs": [
      {
       "html": [
        "<div>\n",
        "    <a href=\"https://plot.ly/~bill_chambers/21/\" target=\"_blank\" title=\"Chuck vs Bill Sales Amounts\" style=\"display: block; text-align: center;\"><img src=\"https://plot.ly/~bill_chambers/21.png\" alt=\"Chuck vs Bill Sales Amounts\" style=\"max-width: 100%;width: 1368px;\"  width=\"1368\" onerror=\"this.onerror=null;this.src='https://plot.ly/404.png';\" /></a>\n",
        "    <script data-plotly=\"bill_chambers:21\" src=\"https://plot.ly/embed.js\" async></script>\n",
        "</div>"
       ],
       "metadata": {},
       "output_type": "pyout",
       "prompt_number": 19,
       "text": [
        "<IPython.core.display.HTML at 0x111310c90>"
       ]
      }
     ],
     "prompt_number": 19
    },
    {
     "cell_type": "code",
     "collapsed": false,
     "input": [
      "large_opps = sf.query(\"SELECT Id, Name, Probability, ExpectedRevenue, StageName, Amount, Owner.Name FROM Opportunity WHERE AMOUNT > 10000 AND StageName != 'Closed Won'\")"
     ],
     "language": "python",
     "metadata": {},
     "outputs": [],
     "prompt_number": 20
    },
    {
     "cell_type": "code",
     "collapsed": false,
     "input": [
      "large_opps_df = pd.DataFrame(large_opps['records'])\n",
      "large_opps_df['Owner'] = large_opps_df.Owner.apply(lambda x: x['Name'])\n",
      "large_opps_df.drop('attributes', inplace=True, axis=1) # get rid of extra return data from Salesforce\n",
      "large_opps_df.head()"
     ],
     "language": "python",
     "metadata": {},
     "outputs": [
      {
       "html": [
        "<div style=\"max-height:1000px;max-width:1500px;overflow:auto;\">\n",
        "<table border=\"1\" class=\"dataframe\">\n",
        "  <thead>\n",
        "    <tr style=\"text-align: right;\">\n",
        "      <th></th>\n",
        "      <th>Amount</th>\n",
        "      <th>ExpectedRevenue</th>\n",
        "      <th>Id</th>\n",
        "      <th>Name</th>\n",
        "      <th>Owner</th>\n",
        "      <th>Probability</th>\n",
        "      <th>StageName</th>\n",
        "    </tr>\n",
        "  </thead>\n",
        "  <tbody>\n",
        "    <tr>\n",
        "      <th>0</th>\n",
        "      <td>  15000</td>\n",
        "      <td>  9000</td>\n",
        "      <td> 0061a000002vYrwAAE</td>\n",
        "      <td>              Grand Hotels Kitchen Generator</td>\n",
        "      <td> Bill C</td>\n",
        "      <td> 60</td>\n",
        "      <td>  Id. Decision Makers</td>\n",
        "    </tr>\n",
        "    <tr>\n",
        "      <th>1</th>\n",
        "      <td>  80000</td>\n",
        "      <td> 40000</td>\n",
        "      <td> 0061a000002vYs3AAE</td>\n",
        "      <td> Express Logistics Portable Truck Generators</td>\n",
        "      <td> Bill C</td>\n",
        "      <td> 50</td>\n",
        "      <td>    Value Proposition</td>\n",
        "    </tr>\n",
        "    <tr>\n",
        "      <th>2</th>\n",
        "      <td> 120000</td>\n",
        "      <td> 84000</td>\n",
        "      <td> 0061a000002vYsDAAU</td>\n",
        "      <td>                       Express Logistics SLA</td>\n",
        "      <td> Bill C</td>\n",
        "      <td> 70</td>\n",
        "      <td>  Perception Analysis</td>\n",
        "    </tr>\n",
        "    <tr>\n",
        "      <th>3</th>\n",
        "      <td> 100000</td>\n",
        "      <td> 75000</td>\n",
        "      <td> 0061a000002vYsCAAU</td>\n",
        "      <td>              University of AZ Installations</td>\n",
        "      <td> Bill C</td>\n",
        "      <td> 75</td>\n",
        "      <td> Proposal/Price Quote</td>\n",
        "    </tr>\n",
        "    <tr>\n",
        "      <th>4</th>\n",
        "      <td>  27000</td>\n",
        "      <td> 24300</td>\n",
        "      <td> 0061a000002vYs6AAE</td>\n",
        "      <td>                    United Oil Installations</td>\n",
        "      <td> Bill C</td>\n",
        "      <td> 90</td>\n",
        "      <td>   Negotiation/Review</td>\n",
        "    </tr>\n",
        "  </tbody>\n",
        "</table>\n",
        "</div>"
       ],
       "metadata": {},
       "output_type": "pyout",
       "prompt_number": 21,
       "text": [
        "   Amount  ExpectedRevenue                  Id  \\\n",
        "0   15000             9000  0061a000002vYrwAAE   \n",
        "1   80000            40000  0061a000002vYs3AAE   \n",
        "2  120000            84000  0061a000002vYsDAAU   \n",
        "3  100000            75000  0061a000002vYsCAAU   \n",
        "4   27000            24300  0061a000002vYs6AAE   \n",
        "\n",
        "                                          Name   Owner  Probability  \\\n",
        "0               Grand Hotels Kitchen Generator  Bill C           60   \n",
        "1  Express Logistics Portable Truck Generators  Bill C           50   \n",
        "2                        Express Logistics SLA  Bill C           70   \n",
        "3               University of AZ Installations  Bill C           75   \n",
        "4                     United Oil Installations  Bill C           90   \n",
        "\n",
        "              StageName  \n",
        "0   Id. Decision Makers  \n",
        "1     Value Proposition  \n",
        "2   Perception Analysis  \n",
        "3  Proposal/Price Quote  \n",
        "4    Negotiation/Review  "
       ]
      }
     ],
     "prompt_number": 21
    },
    {
     "cell_type": "code",
     "collapsed": false,
     "input": [
      "scatters = []\n",
      "for name, temp_df in large_opps_df.groupby('StageName'):\n",
      "    scatters.append(\n",
      "        Scatter(\n",
      "            x=temp_df.Probability,\n",
      "            y=temp_df.Amount,\n",
      "            mode='markers',\n",
      "            name=name,\n",
      "            text=temp_df.Name,\n",
      "            marker=Marker(\n",
      "                size=(temp_df.ExpectedRevenue/1000)\n",
      "            )\n",
      "        )\n",
      "    )"
     ],
     "language": "python",
     "metadata": {},
     "outputs": [],
     "prompt_number": 22
    },
    {
     "cell_type": "code",
     "collapsed": false,
     "input": [
      "data = Data(scatters)\n",
      "layout = Layout(\n",
      "    title='Open Large Deals',\n",
      "    xaxis=XAxis(\n",
      "        title='Close Probability'\n",
      "    ),\n",
      "    yaxis=YAxis(\n",
      "        title='Deal Amount',\n",
      "        showgrid=False\n",
      "    )\n",
      ")\n",
      "fig = Figure(data=data, layout=layout)\n",
      "py.iplot(fig, filename='salesforce/open-large-deals-scatter')"
     ],
     "language": "python",
     "metadata": {},
     "outputs": [
      {
       "html": [
        "<iframe id=\"igraph\" scrolling=\"no\" style=\"border:none;\"seamless=\"seamless\" src=\"https://plot.ly/~bill_chambers/56.embed\" height=\"525\" width=\"100%\"></iframe>"
       ],
       "metadata": {},
       "output_type": "pyout",
       "prompt_number": 23,
       "text": [
        "<plotly.tools.PlotlyDisplay at 0x11163fc90>"
       ]
      }
     ],
     "prompt_number": 23
    },
    {
     "cell_type": "markdown",
     "metadata": {},
     "source": [
      "Plotly makes it easy to create many different kinds of charts. The above graph shows the relationship between probability and the deal amount, a higher estimated return (amount\\*probability) on a deal yields a larger circle. This makes it easy to see allocate energy towards the deals that are closest to giving a return.\n",
      "\n",
      "One of the benefits of Plotly is a lot of the advanced features that make things like live updating dashboards easy. Learn more about some of the advanced features below:\n",
      "\n",
      "- [Live update Plotly graphs in Python with cron jobs](http://moderndata.plot.ly/update-plotly-charts-with-cron-jobs-and-python/)\n",
      "- [Graph mysql data with Plotly and Python](http://moderndata.plot.ly/graph-data-from-mysql-database-in-python/)\n",
      "- [More on creating web-based visualizations in Python with Plotly](https://plot.ly/python/)"
     ]
    }
   ],
   "metadata": {}
  }
 ]
}